{
 "cells": [
  {
   "cell_type": "code",
   "execution_count": 1,
   "metadata": {},
   "outputs": [],
   "source": [
    "import sys\n",
    "sys.path.append('../')"
   ]
  },
  {
   "cell_type": "code",
   "execution_count": 2,
   "metadata": {},
   "outputs": [],
   "source": [
    "from deepracer.tracks import TrackIO, Track\n",
    "\n",
    "from deepracer.logs import \\\n",
    "    AnalysisUtils as au, \\\n",
    "    SimulationLogsIO as slio, \\\n",
    "    EvaluationUtils as eu, \\\n",
    "    PlottingUtils as pu,\\\n",
    "    NewRewardUtils as nr \\"
   ]
  },
  {
   "cell_type": "code",
   "execution_count": 3,
   "metadata": {},
   "outputs": [
    {
     "name": "stdout",
     "output_type": "stream",
     "text": [
      "Loaded 71 waypoints\n"
     ]
    },
    {
     "data": {
      "image/svg+xml": [
       "<svg xmlns=\"http://www.w3.org/2000/svg\" xmlns:xlink=\"http://www.w3.org/1999/xlink\" width=\"100.0\" height=\"100.0\" viewBox=\"0.13165101625431158 0.09529031240092306 7.739630843825427 5.0005055286139175\" preserveAspectRatio=\"xMinYMin meet\"><g transform=\"matrix(1,0,0,-1,0,5.191086153415764)\"><path fill-rule=\"evenodd\" fill=\"#ff3333\" stroke=\"#555555\" stroke-width=\"0.15479261687650855\" opacity=\"0.6\" d=\"M 2.9101200062595103,0.38230620783067915 L 3.320119934919921,0.38247723188186483 L 3.420119917520022,0.3825189450650809 L 3.630128223616876,0.3826065462298145 L 4.190119783540795,0.3828401365758443 L 4.50012807223775,0.382969450923794 L 4.550119720901156,0.38299030403542206 L 5.3201279295585735,0.3833114990261654 L 5.420127912158674,0.38335321220938146 L 5.780127849519036,0.38350337966895914 L 6.324972631375165,0.3956832604952143 L 6.496120858284972,0.4160202072156111 L 6.62472364224327,0.44473185107344176 L 6.815966218031551,0.521642101758542 L 7.017519684834686,0.6415111643040204 L 7.229499454034008,0.8217965373170768 L 7.354308823693938,0.9825323713128955 L 7.447931440559386,1.1453875219327774 L 7.584628865863982,1.8031173114342751 L 7.577929620223677,1.8535557187007277 L 7.571403728787527,1.90268894767995 L 7.350201669529235,2.492043640838347 L 7.258218658533806,2.610503855324811 L 6.843319429832621,2.9366420720078783 L 6.652076861387874,3.0135523418410606 L 6.077102317373509,3.0843225367722926 L 5.917114336078783,3.0829358686812904 L 5.717129359460375,3.081202533567537 L 5.667306448817149,3.080770702127258 L 5.197341753763893,3.076697364609938 L 5.047179687788711,3.0753958609364638 L 5.034886471281728,3.0759817113964028 L 4.97556588304942,3.082330184103404 L 4.723655995002148,3.1605758734283604 L 4.498355317486535,3.3624310927965775 L 4.3325507156607355,3.5658507056549404 L 4.240944136947374,3.6782394727455503 L 4.0138222049015155,3.9568870795046953 L 3.922215626188155,4.069275846595304 L 3.7888808345557994,4.232859434720925 L 3.4380291650003363,4.595552001126502 L 3.353319122878281,4.64793530145161 L 3.1961735515503995,4.727704914445076 L 3.055651529170767,4.776192024941823 L 2.840968530687481,4.80720241399628 L 2.84303014895641,4.80698759310109 L 2.4913683324088596,4.809142846799084 L 2.2404230806588203,4.8019019048214995 L 1.981215987743099,4.794422570158293 L 1.7305590426333723,4.787189947173157 L 1.1133976663098506,4.68342738185746 L 0.9132873376602105,4.575866464388443 L 0.4396815695265954,3.8869828266056468 L 0.4183040104700681,3.4707944950583007 L 0.5817439759375306,2.665552102434232 L 0.5930735980115257,2.6097328787804766 L 0.6242638438593316,2.4560635597666995 L 0.6437866949569175,2.3598776159940114 L 0.7253233176311822,1.9581598051701847 L 0.7467666116515489,1.8525121483482125 L 0.7963216533547308,1.6083624372691325 L 0.9415723136978997,1.058316414523293 L 0.962303954307788,1.006632340237715 L 1.0626459793805891,0.8300487672594938 L 1.095566151040184,0.7926169730979473 L 1.1657678278926826,0.712794342009927 L 1.3114141412298634,0.5840889274264379 L 1.3546711732192105,0.5599177517631669 L 2.040128500275279,0.3819433066166796 L 2.7501283767359923,0.38223947021751337 L 2.9101200062595103,0.38230620783067915 L 2.909906444083587,0.9840787499610828 L 2.749912415761146,0.9840310918882519 L 2.0399124787587044,0.9838196013153698 L 1.6445917267628223,1.0788141361524557 L 1.6322328186035158,1.0857186889648438 L 1.613667277893416,1.1068169893088786 L 1.5434438985939147,1.186620425727402 L 1.5296887207031251,1.2022521209716797 L 1.5185744153105296,1.2299234905909608 L 1.497822943058028,1.281588586929395 L 1.3902788553560892,1.7314629754755075 L 1.338638685255012,1.9753504435221483 L 1.3163469413409712,2.080630441068597 L 1.2314242341915527,2.4817054953489857 L 1.211040078964814,2.5779762860297337 L 1.178615724180754,2.7311108279154777 L 1.1667667487821711,2.787071460950787 L 0.9966111768378945,3.59068638968341 L 1.0248472113946108,3.7704349524329484 L 1.2783204962571983,4.088884910007067 L 1.314613037109375,4.11409423828125 L 1.7485951938134034,4.166053115531388 L 1.9992580924048617,4.173382658074824 L 2.258451665350191,4.180961642960754 L 2.509406720502155,4.1882997283477925 L 2.7808141160514976,4.192424015198027 L 2.7788712303071925,4.192614571024957 L 2.8843350219726562,4.182270812988281 L 2.994786471026911,4.144147305563019 L 3.028917153889106,4.123471202342913 L 3.09720703125,4.081221618652344 L 3.30923654574253,3.8419079701360612 L 3.442571258568735,3.6783243301144166 L 3.534177795123867,3.5659355126652286 L 3.7612995949291355,3.287287815055975 L 3.8529061314842683,3.1748989976067854 L 4.018710641305418,2.9714793128627117 L 4.399026282932134,2.6360679163260246 L 4.909864648480311,2.468324424054731 L 4.9691856595622115,2.46197790460427 L 5.018619835463795,2.4566891383955527 L 5.20260337467398,2.4551229239531156 L 5.6725712484683495,2.45900857506364 L 5.722402483931133,2.459420575130478 L 5.922388813205334,2.4610740436881477 L 6.082377876624694,2.462396818534284 L 6.431444702148438,2.436733856201172 L 6.6006591796875,2.3618621826171875 L 6.769062197464956,2.2227494158821073 L 6.863466114123764,2.106320230004854 L 6.961888826195919,1.8144451569358484 L 6.969601773690491,1.7656646935058404 L 6.972432250976563,1.7477633666992187 L 6.883023391314907,1.3793610957984892 L 6.865130542696974,1.345683363233008 L 6.767670288085938,1.2075256347656251 L 6.65414056181079,1.121153136506339 L 6.58552837663102,1.0751901389624254 L 6.433070068359375,1.0093801879882813 L 6.42648361684787,1.0086153150902388 L 6.255308201425604,0.9887370185843034 L 5.779912146912412,0.9849336502485796 L 5.419912178854835,0.984826415591907 L 5.319912187727731,0.9847966281872758 L 4.5499062985681,0.9845672633970358 L 4.499912260485474,0.9845523714692992 L 4.189906330510524,0.9844600287403632 L 3.6299123376796656,0.9842932210490071 L 3.4199063988318197,0.9842306657247023 L 3.319906407704715,0.9842008783200711 L 2.909906444083587,0.9840787499610828 L 2.9101200062595103,0.38230620783067915 z\" /></g></svg>"
      ],
      "text/plain": [
       "<shapely.geometry.polygon.Polygon at 0x7f036c930750>"
      ]
     },
     "execution_count": 3,
     "metadata": {},
     "output_type": "execute_result"
    }
   ],
   "source": [
    "tu = TrackIO(base_path='../tracks')\n",
    "track: Track = tu.load_track(\"reinvent_base\")\n",
    "\n",
    "track.road_poly"
   ]
  },
  {
   "cell_type": "code",
   "execution_count": 21,
   "metadata": {},
   "outputs": [
    {
     "data": {
      "text/html": [
       "<div>\n",
       "<style scoped>\n",
       "    .dataframe tbody tr th:only-of-type {\n",
       "        vertical-align: middle;\n",
       "    }\n",
       "\n",
       "    .dataframe tbody tr th {\n",
       "        vertical-align: top;\n",
       "    }\n",
       "\n",
       "    .dataframe thead th {\n",
       "        text-align: right;\n",
       "    }\n",
       "</style>\n",
       "<table border=\"1\" class=\"dataframe\">\n",
       "  <thead>\n",
       "    <tr style=\"text-align: right;\">\n",
       "      <th></th>\n",
       "      <th>iteration</th>\n",
       "      <th>episode</th>\n",
       "      <th>steps</th>\n",
       "      <th>x</th>\n",
       "      <th>y</th>\n",
       "      <th>yaw</th>\n",
       "      <th>steer</th>\n",
       "      <th>throttle</th>\n",
       "      <th>action</th>\n",
       "      <th>reward</th>\n",
       "      <th>done</th>\n",
       "      <th>on_track</th>\n",
       "      <th>progress</th>\n",
       "      <th>closest_waypoint</th>\n",
       "      <th>track_length</th>\n",
       "      <th>timestamp</th>\n",
       "      <th>track_width</th>\n",
       "    </tr>\n",
       "  </thead>\n",
       "  <tbody>\n",
       "    <tr>\n",
       "      <th>0</th>\n",
       "      <td>1</td>\n",
       "      <td>2</td>\n",
       "      <td>399</td>\n",
       "      <td>2.6339</td>\n",
       "      <td>0.8130</td>\n",
       "      <td>8.6039</td>\n",
       "      <td>-30.0</td>\n",
       "      <td>0.33</td>\n",
       "      <td>0.0</td>\n",
       "      <td>0.5</td>\n",
       "      <td>0</td>\n",
       "      <td>True</td>\n",
       "      <td>98.4379</td>\n",
       "      <td>69</td>\n",
       "      <td>17.67</td>\n",
       "      <td>1591654452.1265216</td>\n",
       "      <td>0.76</td>\n",
       "    </tr>\n",
       "    <tr>\n",
       "      <th>1</th>\n",
       "      <td>1</td>\n",
       "      <td>2</td>\n",
       "      <td>400</td>\n",
       "      <td>2.6692</td>\n",
       "      <td>0.8136</td>\n",
       "      <td>6.9201</td>\n",
       "      <td>-30.0</td>\n",
       "      <td>0.33</td>\n",
       "      <td>0.0</td>\n",
       "      <td>0.5</td>\n",
       "      <td>0</td>\n",
       "      <td>True</td>\n",
       "      <td>98.6374</td>\n",
       "      <td>69</td>\n",
       "      <td>17.67</td>\n",
       "      <td>1591654452.1930513</td>\n",
       "      <td>0.76</td>\n",
       "    </tr>\n",
       "    <tr>\n",
       "      <th>2</th>\n",
       "      <td>1</td>\n",
       "      <td>2</td>\n",
       "      <td>401</td>\n",
       "      <td>2.6971</td>\n",
       "      <td>0.8127</td>\n",
       "      <td>5.3165</td>\n",
       "      <td>0.0</td>\n",
       "      <td>0.67</td>\n",
       "      <td>4.0</td>\n",
       "      <td>0.5</td>\n",
       "      <td>0</td>\n",
       "      <td>True</td>\n",
       "      <td>98.7958</td>\n",
       "      <td>69</td>\n",
       "      <td>17.67</td>\n",
       "      <td>1591654452.262649</td>\n",
       "      <td>0.76</td>\n",
       "    </tr>\n",
       "    <tr>\n",
       "      <th>3</th>\n",
       "      <td>1</td>\n",
       "      <td>2</td>\n",
       "      <td>402</td>\n",
       "      <td>2.7303</td>\n",
       "      <td>0.8104</td>\n",
       "      <td>3.3965</td>\n",
       "      <td>-30.0</td>\n",
       "      <td>0.67</td>\n",
       "      <td>1.0</td>\n",
       "      <td>0.5</td>\n",
       "      <td>0</td>\n",
       "      <td>True</td>\n",
       "      <td>98.9832</td>\n",
       "      <td>69</td>\n",
       "      <td>17.67</td>\n",
       "      <td>1591654452.329692</td>\n",
       "      <td>0.76</td>\n",
       "    </tr>\n",
       "    <tr>\n",
       "      <th>4</th>\n",
       "      <td>1</td>\n",
       "      <td>2</td>\n",
       "      <td>403</td>\n",
       "      <td>2.7729</td>\n",
       "      <td>0.8053</td>\n",
       "      <td>0.6813</td>\n",
       "      <td>30.0</td>\n",
       "      <td>0.33</td>\n",
       "      <td>6.0</td>\n",
       "      <td>0.5</td>\n",
       "      <td>0</td>\n",
       "      <td>True</td>\n",
       "      <td>99.2245</td>\n",
       "      <td>69</td>\n",
       "      <td>17.67</td>\n",
       "      <td>1591654452.3959208</td>\n",
       "      <td>0.76</td>\n",
       "    </tr>\n",
       "  </tbody>\n",
       "</table>\n",
       "</div>"
      ],
      "text/plain": [
       "   iteration  episode  steps       x       y     yaw  steer  throttle  action  \\\n",
       "0          1        2    399  2.6339  0.8130  8.6039  -30.0      0.33     0.0   \n",
       "1          1        2    400  2.6692  0.8136  6.9201  -30.0      0.33     0.0   \n",
       "2          1        2    401  2.6971  0.8127  5.3165    0.0      0.67     4.0   \n",
       "3          1        2    402  2.7303  0.8104  3.3965  -30.0      0.67     1.0   \n",
       "4          1        2    403  2.7729  0.8053  0.6813   30.0      0.33     6.0   \n",
       "\n",
       "   reward  done on_track  progress  closest_waypoint  track_length  \\\n",
       "0     0.5     0     True   98.4379                69         17.67   \n",
       "1     0.5     0     True   98.6374                69         17.67   \n",
       "2     0.5     0     True   98.7958                69         17.67   \n",
       "3     0.5     0     True   98.9832                69         17.67   \n",
       "4     0.5     0     True   99.2245                69         17.67   \n",
       "\n",
       "            timestamp  track_width  \n",
       "0  1591654452.1265216         0.76  \n",
       "1  1591654452.1930513         0.76  \n",
       "2   1591654452.262649         0.76  \n",
       "3   1591654452.329692         0.76  \n",
       "4  1591654452.3959208         0.76  "
      ]
     },
     "execution_count": 21,
     "metadata": {},
     "output_type": "execute_result"
    }
   ],
   "source": [
    "eval_fname = '../logs/evaluation-simulation-logs-y1.log'\n",
    "eval_df = slio.load_pandas(eval_fname)\n",
    "eval_df = eval_df.rename(columns={'track_len':'track_length'}) \n",
    "eval_df['track_width'] = 0.76\n",
    "eval_df.head()"
   ]
  },
  {
   "cell_type": "code",
   "execution_count": 11,
   "metadata": {},
   "outputs": [],
   "source": [
    "nr.new_reward(eval_df, track.center_line, 'reward') #, verbose=True)"
   ]
  },
  {
   "cell_type": "code",
   "execution_count": 12,
   "metadata": {},
   "outputs": [
    {
     "data": {
      "text/plain": [
       "<matplotlib.axes._subplots.AxesSubplot at 0x7f033c42f690>"
      ]
     },
     "execution_count": 12,
     "metadata": {},
     "output_type": "execute_result"
    },
    {
     "data": {
      "image/png": "[encoded data removed]",
      "text/plain": [
       "<Figure size 432x288 with 1 Axes>"
      ]
     },
     "metadata": {
      "needs_background": "light"
     },
     "output_type": "display_data"
    }
   ],
   "source": [
    "eval_df.plot(x='reward',y='new_reward',kind='scatter')"
   ]
  },
  {
   "cell_type": "code",
   "execution_count": 13,
   "metadata": {},
   "outputs": [
    {
     "name": "stdout",
     "output_type": "stream",
     "text": [
      "['RewardZ2', 'RewardZ3', 'RewardZ1', 'RewardZ4', 'RewardZ4_2', 'RewardZ5', 'RewardZ6', 'RewardZ7', 'RewardY1', 'RewardY2', 'RewardX1', 'RewardW6', 'RewardW5', 'RewardW4', 'RewardW3', 'RewardW2']\n"
     ]
    }
   ],
   "source": [
    "from reward import AWSReward, RewardFactory\n",
    "factory = RewardFactory(AWSReward)\n",
    "factory.print_available_reward_classes()"
   ]
  },
  {
   "cell_type": "code",
   "execution_count": 14,
   "metadata": {},
   "outputs": [
    {
     "ename": "AttributeError",
     "evalue": "'RewardW6' object has no attribute 'track_width'",
     "output_type": "error",
     "traceback": [
      "\u001b[0;31m---------------------------------------------------------------------------\u001b[0m",
      "\u001b[0;31mAttributeError\u001b[0m                            Traceback (most recent call last)",
      "\u001b[0;32m<ipython-input-14-299b5bb961bf>\u001b[0m in \u001b[0;36m<module>\u001b[0;34m\u001b[0m\n\u001b[1;32m      1\u001b[0m \u001b[0mparams\u001b[0m \u001b[0;34m=\u001b[0m \u001b[0;34m{\u001b[0m\u001b[0;34m}\u001b[0m\u001b[0;34m\u001b[0m\u001b[0;34m\u001b[0m\u001b[0m\n\u001b[1;32m      2\u001b[0m \u001b[0mw6\u001b[0m \u001b[0;34m=\u001b[0m \u001b[0mfactory\u001b[0m\u001b[0;34m.\u001b[0m\u001b[0mbuild\u001b[0m\u001b[0;34m(\u001b[0m\u001b[0;34m'RewardW6'\u001b[0m\u001b[0;34m,\u001b[0m\u001b[0mparams\u001b[0m\u001b[0;34m)\u001b[0m\u001b[0;34m\u001b[0m\u001b[0;34m\u001b[0m\u001b[0m\n\u001b[0;32m----> 3\u001b[0;31m \u001b[0mfloat\u001b[0m\u001b[0;34m(\u001b[0m\u001b[0mw6\u001b[0m\u001b[0;34m)\u001b[0m\u001b[0;34m\u001b[0m\u001b[0;34m\u001b[0m\u001b[0m\n\u001b[0m",
      "\u001b[0;32m~/Code/deepracer/deepracer-analysis/reward/awsreward.py\u001b[0m in \u001b[0;36m__float__\u001b[0;34m(self)\u001b[0m\n\u001b[1;32m     15\u001b[0m \u001b[0;34m\u001b[0m\u001b[0m\n\u001b[1;32m     16\u001b[0m     \u001b[0;32mdef\u001b[0m \u001b[0m__float__\u001b[0m\u001b[0;34m(\u001b[0m\u001b[0mself\u001b[0m\u001b[0;34m)\u001b[0m\u001b[0;34m:\u001b[0m\u001b[0;34m\u001b[0m\u001b[0;34m\u001b[0m\u001b[0m\n\u001b[0;32m---> 17\u001b[0;31m         \u001b[0;32mreturn\u001b[0m \u001b[0mfloat\u001b[0m\u001b[0;34m(\u001b[0m\u001b[0mself\u001b[0m\u001b[0;34m.\u001b[0m\u001b[0m_calculateReward\u001b[0m\u001b[0;34m(\u001b[0m\u001b[0;34m)\u001b[0m\u001b[0;34m)\u001b[0m\u001b[0;34m\u001b[0m\u001b[0;34m\u001b[0m\u001b[0m\n\u001b[0m\u001b[1;32m     18\u001b[0m \u001b[0;34m\u001b[0m\u001b[0m\n\u001b[1;32m     19\u001b[0m     \u001b[0;32mdef\u001b[0m \u001b[0m_calculateReward\u001b[0m\u001b[0;34m(\u001b[0m\u001b[0mself\u001b[0m\u001b[0;34m)\u001b[0m\u001b[0;34m:\u001b[0m\u001b[0;34m\u001b[0m\u001b[0;34m\u001b[0m\u001b[0m\n",
      "\u001b[0;32m~/Code/deepracer/deepracer-analysis/reward/awsreward.py\u001b[0m in \u001b[0;36m_calculateReward\u001b[0;34m(self)\u001b[0m\n\u001b[1;32m    211\u001b[0m         return ( self.base_reward()\n\u001b[1;32m    212\u001b[0m             \u001b[0;34m+\u001b[0m \u001b[0mself\u001b[0m\u001b[0;34m.\u001b[0m\u001b[0m_motion_reward\u001b[0m\u001b[0;34m(\u001b[0m\u001b[0;34m)\u001b[0m\u001b[0;34m\u001b[0m\u001b[0;34m\u001b[0m\u001b[0m\n\u001b[0;32m--> 213\u001b[0;31m             + self.complete_track() )\n\u001b[0m\u001b[1;32m    214\u001b[0m \u001b[0;34m\u001b[0m\u001b[0m\n\u001b[1;32m    215\u001b[0m     \u001b[0;32mdef\u001b[0m \u001b[0m_motion_reward\u001b[0m\u001b[0;34m(\u001b[0m\u001b[0mself\u001b[0m\u001b[0;34m)\u001b[0m\u001b[0;34m:\u001b[0m\u001b[0;34m\u001b[0m\u001b[0;34m\u001b[0m\u001b[0m\n",
      "\u001b[0;32m~/Code/deepracer/deepracer-analysis/reward/awsreward.py\u001b[0m in \u001b[0;36m_motion_reward\u001b[0;34m(self)\u001b[0m\n\u001b[1;32m    217\u001b[0m                 \u001b[0;34m*\u001b[0m \u001b[0mself\u001b[0m\u001b[0;34m.\u001b[0m\u001b[0mpenalize_slow_movement\u001b[0m\u001b[0;34m(\u001b[0m\u001b[0;34m)\u001b[0m\u001b[0;34m\u001b[0m\u001b[0;34m\u001b[0m\u001b[0m\n\u001b[1;32m    218\u001b[0m                 \u001b[0;34m*\u001b[0m \u001b[0mself\u001b[0m\u001b[0;34m.\u001b[0m\u001b[0mpenalize_over_steering\u001b[0m\u001b[0;34m(\u001b[0m\u001b[0;34m)\u001b[0m\u001b[0;34m\u001b[0m\u001b[0;34m\u001b[0m\u001b[0m\n\u001b[0;32m--> 219\u001b[0;31m                 * self.kill_reward_when_off_track() )\n\u001b[0m\u001b[1;32m    220\u001b[0m \u001b[0;34m\u001b[0m\u001b[0m\n\u001b[1;32m    221\u001b[0m     \u001b[0;32mdef\u001b[0m \u001b[0mkill_reward_when_off_track\u001b[0m\u001b[0;34m(\u001b[0m\u001b[0mself\u001b[0m\u001b[0;34m)\u001b[0m\u001b[0;34m:\u001b[0m\u001b[0;34m\u001b[0m\u001b[0;34m\u001b[0m\u001b[0m\n",
      "\u001b[0;32m~/Code/deepracer/deepracer-analysis/reward/awsreward.py\u001b[0m in \u001b[0;36mstay_in_the_center\u001b[0;34m(self)\u001b[0m\n\u001b[1;32m    223\u001b[0m \u001b[0;34m\u001b[0m\u001b[0m\n\u001b[1;32m    224\u001b[0m     \u001b[0;32mdef\u001b[0m \u001b[0mstay_in_the_center\u001b[0m\u001b[0;34m(\u001b[0m\u001b[0mself\u001b[0m\u001b[0;34m)\u001b[0m\u001b[0;34m:\u001b[0m\u001b[0;34m\u001b[0m\u001b[0;34m\u001b[0m\u001b[0m\n\u001b[0;32m--> 225\u001b[0;31m         \u001b[0;32mreturn\u001b[0m \u001b[0;36m1.0\u001b[0m \u001b[0;32mif\u001b[0m \u001b[0mself\u001b[0m\u001b[0;34m.\u001b[0m\u001b[0mis_on_track\u001b[0m\u001b[0;34m(\u001b[0m\u001b[0;34m)\u001b[0m \u001b[0;32melse\u001b[0m \u001b[0;36m0.0\u001b[0m\u001b[0;34m\u001b[0m\u001b[0;34m\u001b[0m\u001b[0m\n\u001b[0m\u001b[1;32m    226\u001b[0m \u001b[0;34m\u001b[0m\u001b[0m\n\u001b[1;32m    227\u001b[0m     \u001b[0;32mdef\u001b[0m \u001b[0mcomplete_track\u001b[0m\u001b[0;34m(\u001b[0m\u001b[0mself\u001b[0m\u001b[0;34m)\u001b[0m\u001b[0;34m:\u001b[0m\u001b[0;34m\u001b[0m\u001b[0;34m\u001b[0m\u001b[0m\n",
      "\u001b[0;32m~/Code/deepracer/deepracer-analysis/reward/awsreward.py\u001b[0m in \u001b[0;36mis_on_track\u001b[0;34m(self)\u001b[0m\n\u001b[1;32m     40\u001b[0m \u001b[0;34m\u001b[0m\u001b[0m\n\u001b[1;32m     41\u001b[0m     \u001b[0;32mdef\u001b[0m \u001b[0mis_on_track\u001b[0m\u001b[0;34m(\u001b[0m\u001b[0mself\u001b[0m\u001b[0;34m)\u001b[0m\u001b[0;34m:\u001b[0m\u001b[0;34m\u001b[0m\u001b[0;34m\u001b[0m\u001b[0m\n\u001b[0;32m---> 42\u001b[0;31m         \u001b[0;32mreturn\u001b[0m \u001b[0;34m(\u001b[0m\u001b[0;36m0.5\u001b[0m\u001b[0;34m*\u001b[0m\u001b[0mself\u001b[0m\u001b[0;34m.\u001b[0m\u001b[0mtrack_width\u001b[0m \u001b[0;34m-\u001b[0m \u001b[0mself\u001b[0m\u001b[0;34m.\u001b[0m\u001b[0mdistance_from_center\u001b[0m\u001b[0;34m)\u001b[0m \u001b[0;34m>=\u001b[0m \u001b[0;36m0.05\u001b[0m\u001b[0;34m\u001b[0m\u001b[0;34m\u001b[0m\u001b[0m\n\u001b[0m\u001b[1;32m     43\u001b[0m \u001b[0;34m\u001b[0m\u001b[0m\n\u001b[1;32m     44\u001b[0m     \u001b[0;32mdef\u001b[0m \u001b[0mprogress_bonus\u001b[0m\u001b[0;34m(\u001b[0m\u001b[0mself\u001b[0m\u001b[0;34m)\u001b[0m\u001b[0;34m:\u001b[0m\u001b[0;34m\u001b[0m\u001b[0;34m\u001b[0m\u001b[0m\n",
      "\u001b[0;31mAttributeError\u001b[0m: 'RewardW6' object has no attribute 'track_width'"
     ]
    }
   ],
   "source": [
    "params = {}\n",
    "w6 = factory.build('RewardW6',params)\n",
    "float(w6)"
   ]
  },
  {
   "cell_type": "code",
   "execution_count": 18,
   "metadata": {},
   "outputs": [],
   "source": [
    "# This util has a very complicated way to get a reward function\n",
    "nr.new_reward??"
   ]
  },
  {
   "cell_type": "code",
   "execution_count": 19,
   "metadata": {},
   "outputs": [],
   "source": [
    "#this util is missing some parameters and hardcoding others\n",
    "nr.df_to_params??"
   ]
  },
  {
   "cell_type": "code",
   "execution_count": 25,
   "metadata": {},
   "outputs": [],
   "source": [
    "def new_reward(df, factory, center_line, reward_name='RewardX1',missing_params=None):\n",
    "        new_rewards = []\n",
    "        for _, row in df.iterrows():\n",
    "            params = nr.df_to_params(row, center_line)\n",
    "            if missing_params:\n",
    "                params.update(missing_params)\n",
    "            rw = factory.build(reward_name,params)\n",
    "            new_rewards.append( float(rw) )\n",
    "\n",
    "        df[reward_name] = new_rewards"
   ]
  },
  {
   "cell_type": "code",
   "execution_count": 26,
   "metadata": {},
   "outputs": [],
   "source": [
    "missing_params = {'track_width': 0.76, 'track_length': 17.67}\n",
    "new_reward(eval_df,factory,track.center_line,reward_name='RewardW6',missing_params=missing_params)"
   ]
  },
  {
   "cell_type": "code",
   "execution_count": 27,
   "metadata": {},
   "outputs": [
    {
     "data": {
      "text/html": [
       "<div>\n",
       "<style scoped>\n",
       "    .dataframe tbody tr th:only-of-type {\n",
       "        vertical-align: middle;\n",
       "    }\n",
       "\n",
       "    .dataframe tbody tr th {\n",
       "        vertical-align: top;\n",
       "    }\n",
       "\n",
       "    .dataframe thead th {\n",
       "        text-align: right;\n",
       "    }\n",
       "</style>\n",
       "<table border=\"1\" class=\"dataframe\">\n",
       "  <thead>\n",
       "    <tr style=\"text-align: right;\">\n",
       "      <th></th>\n",
       "      <th>iteration</th>\n",
       "      <th>episode</th>\n",
       "      <th>steps</th>\n",
       "      <th>x</th>\n",
       "      <th>y</th>\n",
       "      <th>yaw</th>\n",
       "      <th>steer</th>\n",
       "      <th>throttle</th>\n",
       "      <th>action</th>\n",
       "      <th>reward</th>\n",
       "      <th>done</th>\n",
       "      <th>on_track</th>\n",
       "      <th>progress</th>\n",
       "      <th>closest_waypoint</th>\n",
       "      <th>track_length</th>\n",
       "      <th>timestamp</th>\n",
       "      <th>track_width</th>\n",
       "      <th>RewardW6</th>\n",
       "    </tr>\n",
       "  </thead>\n",
       "  <tbody>\n",
       "    <tr>\n",
       "      <th>0</th>\n",
       "      <td>1</td>\n",
       "      <td>2</td>\n",
       "      <td>399</td>\n",
       "      <td>2.6339</td>\n",
       "      <td>0.8130</td>\n",
       "      <td>8.6039</td>\n",
       "      <td>-30.0</td>\n",
       "      <td>0.33</td>\n",
       "      <td>0.0</td>\n",
       "      <td>0.5</td>\n",
       "      <td>0</td>\n",
       "      <td>True</td>\n",
       "      <td>98.4379</td>\n",
       "      <td>69</td>\n",
       "      <td>17.67</td>\n",
       "      <td>1591654452.1265216</td>\n",
       "      <td>0.76</td>\n",
       "      <td>0.641</td>\n",
       "    </tr>\n",
       "    <tr>\n",
       "      <th>1</th>\n",
       "      <td>1</td>\n",
       "      <td>2</td>\n",
       "      <td>400</td>\n",
       "      <td>2.6692</td>\n",
       "      <td>0.8136</td>\n",
       "      <td>6.9201</td>\n",
       "      <td>-30.0</td>\n",
       "      <td>0.33</td>\n",
       "      <td>0.0</td>\n",
       "      <td>0.5</td>\n",
       "      <td>0</td>\n",
       "      <td>True</td>\n",
       "      <td>98.6374</td>\n",
       "      <td>69</td>\n",
       "      <td>17.67</td>\n",
       "      <td>1591654452.1930513</td>\n",
       "      <td>0.76</td>\n",
       "      <td>0.641</td>\n",
       "    </tr>\n",
       "    <tr>\n",
       "      <th>2</th>\n",
       "      <td>1</td>\n",
       "      <td>2</td>\n",
       "      <td>401</td>\n",
       "      <td>2.6971</td>\n",
       "      <td>0.8127</td>\n",
       "      <td>5.3165</td>\n",
       "      <td>0.0</td>\n",
       "      <td>0.67</td>\n",
       "      <td>4.0</td>\n",
       "      <td>0.5</td>\n",
       "      <td>0</td>\n",
       "      <td>True</td>\n",
       "      <td>98.7958</td>\n",
       "      <td>69</td>\n",
       "      <td>17.67</td>\n",
       "      <td>1591654452.262649</td>\n",
       "      <td>0.76</td>\n",
       "      <td>0.801</td>\n",
       "    </tr>\n",
       "    <tr>\n",
       "      <th>3</th>\n",
       "      <td>1</td>\n",
       "      <td>2</td>\n",
       "      <td>402</td>\n",
       "      <td>2.7303</td>\n",
       "      <td>0.8104</td>\n",
       "      <td>3.3965</td>\n",
       "      <td>-30.0</td>\n",
       "      <td>0.67</td>\n",
       "      <td>1.0</td>\n",
       "      <td>0.5</td>\n",
       "      <td>0</td>\n",
       "      <td>True</td>\n",
       "      <td>98.9832</td>\n",
       "      <td>69</td>\n",
       "      <td>17.67</td>\n",
       "      <td>1591654452.329692</td>\n",
       "      <td>0.76</td>\n",
       "      <td>0.641</td>\n",
       "    </tr>\n",
       "    <tr>\n",
       "      <th>4</th>\n",
       "      <td>1</td>\n",
       "      <td>2</td>\n",
       "      <td>403</td>\n",
       "      <td>2.7729</td>\n",
       "      <td>0.8053</td>\n",
       "      <td>0.6813</td>\n",
       "      <td>30.0</td>\n",
       "      <td>0.33</td>\n",
       "      <td>6.0</td>\n",
       "      <td>0.5</td>\n",
       "      <td>0</td>\n",
       "      <td>True</td>\n",
       "      <td>99.2245</td>\n",
       "      <td>69</td>\n",
       "      <td>17.67</td>\n",
       "      <td>1591654452.3959208</td>\n",
       "      <td>0.76</td>\n",
       "      <td>0.641</td>\n",
       "    </tr>\n",
       "  </tbody>\n",
       "</table>\n",
       "</div>"
      ],
      "text/plain": [
       "   iteration  episode  steps       x       y     yaw  steer  throttle  action  \\\n",
       "0          1        2    399  2.6339  0.8130  8.6039  -30.0      0.33     0.0   \n",
       "1          1        2    400  2.6692  0.8136  6.9201  -30.0      0.33     0.0   \n",
       "2          1        2    401  2.6971  0.8127  5.3165    0.0      0.67     4.0   \n",
       "3          1        2    402  2.7303  0.8104  3.3965  -30.0      0.67     1.0   \n",
       "4          1        2    403  2.7729  0.8053  0.6813   30.0      0.33     6.0   \n",
       "\n",
       "   reward  done on_track  progress  closest_waypoint  track_length  \\\n",
       "0     0.5     0     True   98.4379                69         17.67   \n",
       "1     0.5     0     True   98.6374                69         17.67   \n",
       "2     0.5     0     True   98.7958                69         17.67   \n",
       "3     0.5     0     True   98.9832                69         17.67   \n",
       "4     0.5     0     True   99.2245                69         17.67   \n",
       "\n",
       "            timestamp  track_width  RewardW6  \n",
       "0  1591654452.1265216         0.76     0.641  \n",
       "1  1591654452.1930513         0.76     0.641  \n",
       "2   1591654452.262649         0.76     0.801  \n",
       "3   1591654452.329692         0.76     0.641  \n",
       "4  1591654452.3959208         0.76     0.641  "
      ]
     },
     "execution_count": 27,
     "metadata": {},
     "output_type": "execute_result"
    }
   ],
   "source": [
    "eval_df.head()"
   ]
  },
  {
   "cell_type": "code",
   "execution_count": null,
   "metadata": {},
   "outputs": [],
   "source": []
  }
 ],
 "metadata": {
  "kernelspec": {
   "display_name": "Python 3",
   "language": "python",
   "name": "python3"
  },
  "language_info": {
   "codemirror_mode": {
    "name": "ipython",
    "version": 3
   },
   "file_extension": ".py",
   "mimetype": "text/x-python",
   "name": "python",
   "nbconvert_exporter": "python",
   "pygments_lexer": "ipython3",
   "version": "3.7.7"
  }
 },
 "nbformat": 4,
 "nbformat_minor": 4
}
