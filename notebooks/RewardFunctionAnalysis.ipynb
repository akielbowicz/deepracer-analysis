{
 "cells": [
  {
   "cell_type": "code",
   "execution_count": null,
   "metadata": {},
   "outputs": [],
   "source": [
    "import sys\n",
    "sys.path.append('../')"
   ]
  },
  {
   "cell_type": "code",
   "execution_count": null,
   "metadata": {},
   "outputs": [],
   "source": [
    "from deepracer.tracks import TrackIO, Track\n",
    "\n",
    "from deepracer.logs import \\\n",
    "    AnalysisUtils as au, \\\n",
    "    SimulationLogsIO as slio, \\\n",
    "    EvaluationUtils as eu, \\\n",
    "    PlottingUtils as pu,\\\n",
    "    NewRewardUtils as nr \\"
   ]
  },
  {
   "cell_type": "code",
   "execution_count": null,
   "metadata": {},
   "outputs": [],
   "source": [
    "tu = TrackIO(base_path='../tracks')\n",
    "track: Track = tu.load_track(\"reinvent_base\")\n",
    "\n",
    "track.road_poly"
   ]
  },
  {
   "cell_type": "code",
   "execution_count": null,
   "metadata": {},
   "outputs": [],
   "source": [
    "fname = '../logs/evaluation-simulation-logs-w6.log'\n",
    "df = slio.load_pandas(fname)\n",
    "df = df.rename(columns={'track_len':'track_length'}) \n",
    "df['track_width'] = 0.76\n",
    "df.head()"
   ]
  },
  {
   "cell_type": "code",
   "execution_count": null,
   "metadata": {},
   "outputs": [],
   "source": [
    "nr.new_reward(df, track.center_line, 'reward') #, verbose=True)"
   ]
  },
  {
   "cell_type": "code",
   "execution_count": null,
   "metadata": {},
   "outputs": [],
   "source": [
    "df.plot(x='reward',y='new_reward',kind='scatter')"
   ]
  },
  {
   "cell_type": "code",
   "execution_count": null,
   "metadata": {},
   "outputs": [],
   "source": [
    "from reward import AWSReward, RewardFactory\n",
    "factory = RewardFactory(AWSReward)\n",
    "factory.print_available_reward_classes()"
   ]
  },
  {
   "cell_type": "code",
   "execution_count": null,
   "metadata": {},
   "outputs": [],
   "source": [
    "params = nr.df_to_params(next(df.iterrows())[1], track.center_line)\n",
    "missing_params = {'track_width': 0.76, 'track_length': 17.67}\n",
    "params.update(missing_params)\n",
    "w6 = factory.build('RewardW6',params)\n",
    "float(w6)"
   ]
  },
  {
   "cell_type": "code",
   "execution_count": null,
   "metadata": {},
   "outputs": [],
   "source": [
    "# This util has a very complicated way to get a reward function\n",
    "nr.new_reward??"
   ]
  },
  {
   "cell_type": "code",
   "execution_count": null,
   "metadata": {},
   "outputs": [],
   "source": [
    "#this util is missing some parameters and hardcoding others\n",
    "nr.df_to_params??"
   ]
  },
  {
   "cell_type": "code",
   "execution_count": null,
   "metadata": {},
   "outputs": [],
   "source": [
    "def new_reward(df, factory, center_line, reward_name='RewardX1',missing_params=None):\n",
    "        new_rewards = []\n",
    "        for _, row in df.iterrows():\n",
    "            params = nr.df_to_params(row, center_line)\n",
    "            if missing_params:\n",
    "                params.update(missing_params)\n",
    "            rw = factory.build(reward_name,params)\n",
    "            new_rewards.append( float(rw) )\n",
    "\n",
    "        df[reward_name] = new_rewards"
   ]
  },
  {
   "cell_type": "code",
   "execution_count": null,
   "metadata": {},
   "outputs": [],
   "source": [
    "new_reward(df,factory,track.center_line,reward_name='RewardW6',missing_params=missing_params)"
   ]
  },
  {
   "cell_type": "code",
   "execution_count": null,
   "metadata": {},
   "outputs": [],
   "source": [
    "df.head()"
   ]
  }
 ],
 "metadata": {
  "kernelspec": {
   "display_name": "Python 3",
   "language": "python",
   "name": "python3"
  },
  "language_info": {
   "codemirror_mode": {
    "name": "ipython",
    "version": 3
   },
   "file_extension": ".py",
   "mimetype": "text/x-python",
   "name": "python",
   "nbconvert_exporter": "python",
   "pygments_lexer": "ipython3",
   "version": "3.7.7"
  }
 },
 "nbformat": 4,
 "nbformat_minor": 4
}
