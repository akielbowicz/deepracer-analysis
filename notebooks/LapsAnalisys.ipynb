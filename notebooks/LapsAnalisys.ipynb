{
 "cells": [
  {
   "cell_type": "code",
   "execution_count": 1,
   "metadata": {},
   "outputs": [
    {
     "name": "stdout",
     "output_type": "stream",
     "text": [
      "Loaded 71 waypoints\n"
     ]
    }
   ],
   "source": [
    "import sys\n",
    "sys.path.append('../')\n",
    "import numpy\n",
    "import pandas\n",
    "import seaborn\n",
    "import matplotlib.pyplot as plt\n",
    "import ipywidgets as widgets\n",
    "import bqplot\n",
    "\n",
    "from deepracer.tracks import TrackIO, Track\n",
    "\n",
    "from deepracer.logs import \\\n",
    "    AnalysisUtils as au, \\\n",
    "    SimulationLogsIO as slio, \\\n",
    "    EvaluationUtils as eu, \\\n",
    "    PlottingUtils as pu,\\\n",
    "    NewRewardUtils as nr \\\n",
    "\n",
    "from reward import AWSReward, RewardFactory\n",
    "import reward.awsreward as rewards\n",
    "from utils.loader import load_logs, load_sample_complete_laps\n",
    "from utils.transformer import df_to_params, calculate_iteration, new_names_df\n",
    "\n",
    "tu = TrackIO(base_path='../tracks')\n",
    "track = tu.load_track(\"reinvent_base\")\n",
    "\n",
    "def calculate_duration(df):\n",
    "    df['duration'] = df[['episode','numeric_timestamp']].groupby('episode').transform(lambda x: x - x.min())\n",
    "\n",
    "def get_df(fname):\n",
    "    full_df = load_logs(fname)\n",
    "    calculate_iteration(full_df)\n",
    "    calculate_duration(full_df)\n",
    "    return full_df\n",
    "\n",
    "import pathlib\n",
    "paths = [(x.name,x) for x in pathlib.Path('../logs').glob('*.log')]\n",
    "file = widgets.Dropdown(options=paths,value=paths[0][1])"
   ]
  },
  {
   "cell_type": "code",
   "execution_count": 2,
   "metadata": {},
   "outputs": [
    {
     "name": "stderr",
     "output_type": "stream",
     "text": [
      "/home/sasha/miniconda3/envs/deepracer-viz/lib/python3.7/site-packages/ipykernel_launcher.py:5: DeprecationWarning: metadata {'dtype': None} was set from the constructor. With traitlets 4.1, metadata should be set using the .tag() method, e.g., Int().tag(key1='value1', key2='value2')\n",
      "  \"\"\"\n"
     ]
    },
    {
     "data": {
      "text/plain": [
       "<traitlets.traitlets.link at 0x7f5ae6bb44d0>"
      ]
     },
     "execution_count": 2,
     "metadata": {},
     "output_type": "execute_result"
    }
   ],
   "source": [
    "from traitlets import HasTraits,Instance,link\n",
    "from traittypes import DataFrame\n",
    "\n",
    "class App(HasTraits):\n",
    "    df = DataFrame(default_value=None,allow_none=True).tag(sync=True)\n",
    "    file = Instance(pathlib.Path,allow_none=True,default_value=None)\n",
    "    \n",
    "    def __init__(self):\n",
    "        self.observe(self._update_file,names='file')\n",
    "    \n",
    "    def _update_file(self,change):\n",
    "        new_file = change['new']\n",
    "        self.df = get_df(new_file)\n",
    "        \n",
    "appModel = App() \n",
    "appModel.file = file.value\n",
    "link((appModel,'file'),(file,'value'))"
   ]
  },
  {
   "cell_type": "code",
   "execution_count": 3,
   "metadata": {},
   "outputs": [],
   "source": [
    "from bqplot import Figure, LinearScale, Scatter, Lines, Axis, Tooltip,ColorScale,ColorAxis\n",
    "import bqplot.pyplot as blt"
   ]
  },
  {
   "cell_type": "code",
   "execution_count": 4,
   "metadata": {},
   "outputs": [],
   "source": [
    "def get_info_by_episode(df,episode):\n",
    "    return df.loc[df.episode == episode, :].sort_values('step')\n",
    "\n",
    "def calculate_instantaneous_velocity(t,x,y):\n",
    "    import scipy.linalg as la\n",
    "    dx, dy, dt = numpy.diff([x,y,t],prepend=0)  \n",
    "    v = la.norm([dx,dy],axis=0) / dt \n",
    "    return v\n",
    "\n",
    "def add_velocity(ep):\n",
    "    x,y,t = ep[['x','y','numeric_timestamp']].values.T\n",
    "    v = calculate_instantaneous_velocity(t,x,y)\n",
    "    ep['velocity'] = v    \n",
    "    return t,x,y,v"
   ]
  },
  {
   "cell_type": "code",
   "execution_count": 5,
   "metadata": {},
   "outputs": [],
   "source": [
    "scales={'x': LinearScale(), 'y': LinearScale(),'color': ColorScale(scheme='YlGnBu')}\n",
    "\n",
    "def create_trajectory(x,y,scales):\n",
    "    tooltip = Tooltip(fields=['x', 'y', 'color' ], formats=['.2f', '.2f','s'])\n",
    "    return [ Lines(x=x, y=y, scales=scales ), Scatter(x=x, y=y, scales=scales, tooltip=tooltip ) ]\n",
    "\n",
    "def plot_track(track, scales):\n",
    "    \n",
    "    def plot_line(points, scales):\n",
    "        x,y = points.T\n",
    "        return Lines(x=x, y=y, scales=scales,colors=['gray'])\n",
    "\n",
    "    def create_line(track,name,scales):\n",
    "        points = getattr(track, name)\n",
    "        return plot_line(points, scales)\n",
    "\n",
    "    def create_track(track, scales):    \n",
    "        return [ create_line(track,name,scales)\n",
    "             for name in ['inner_border', 'outer_border','center_line']]\n",
    "\n",
    "    def create_axes():\n",
    "        return [ Axis(scale=scales['x'], label='x'), \n",
    "                 Axis(scale=scales['y'], orientation='vertical', label='y'),\n",
    "                 ColorAxis(scale=scales['color'], label='', side='right', orientation='vertical')]\n",
    "\n",
    "    marks = create_track(track,scales)  \n",
    "    axes = create_axes()\n",
    "    fig = Figure(marks=marks, axes=axes, title='L')\n",
    "    fig.min_aspect_ratio = 1\n",
    "    fig.max_aspect_ratio = 1\n",
    "    return fig"
   ]
  },
  {
   "cell_type": "code",
   "execution_count": 6,
   "metadata": {},
   "outputs": [],
   "source": [
    "ep = get_info_by_episode(appModel.df,0)\n",
    "t,x,y,v = add_velocity(ep)\n",
    "trajectory = create_trajectory(x,y,scales)\n",
    "\n",
    "track_plot = plot_track(track,scales)\n",
    "track_plot.marks = track_plot.marks + trajectory"
   ]
  },
  {
   "cell_type": "code",
   "execution_count": 7,
   "metadata": {},
   "outputs": [],
   "source": [
    "episodes = numpy.unique(appModel.df.episode.values)\n",
    "columns = ep.select_dtypes('number').columns.values\n",
    "col = widgets.Dropdown(options=columns)\n",
    "dd = widgets.Dropdown(options=episodes)\n",
    "sl = widgets.IntSlider(min=min(episodes),max=max(episodes))\n",
    "widgets.link((dd,'value'),(sl,'value'))\n",
    "app = widgets.VBox(children=[file, widgets.VBox([widgets.HBox([dd,sl,col]), track_plot]) ], titles=['Choose file','App'])"
   ]
  },
  {
   "cell_type": "code",
   "execution_count": 8,
   "metadata": {},
   "outputs": [],
   "source": [
    "def update_episodes(change):\n",
    "    episodes = numpy.unique(appModel.df.episode.values)\n",
    "    dd.options = episodes\n",
    "    sl.min=min(episodes)\n",
    "    sl.max=max(episodes)\n",
    "\n",
    "def select_episode(change):\n",
    "    df = appModel.df\n",
    "    episode = change['new']\n",
    "    ep = get_info_by_episode(df,episode)\n",
    "    add_velocity(ep)\n",
    "    color = ep[col.value]\n",
    "    trajectory = create_trajectory(ep.x,ep.y,scales)\n",
    "    trajectory[-1].color = color\n",
    "    track_plot.marks = track_plot.marks[:-2] + trajectory\n",
    "    \n",
    "def select_column(change):\n",
    "    new_column = change['new']\n",
    "    df = appModel.df\n",
    "    ep = get_info_by_episode(df,sl.value)\n",
    "    add_velocity(ep)\n",
    "    scatter = track_plot.marks[-1]\n",
    "    scatter.color = ep[new_column]\n",
    "    color_scale = scatter.scales['color']\n",
    "    \n",
    "    color_scale.min = float(scatter.color.min(initial=0.0))\n",
    "    color_scale.max = float(scatter.color.max(initial=1.0)) \n",
    "    scatter.tooltip.labels = ['x','y',new_column]\n",
    "    \n",
    "col.observe(select_column,names='value')\n",
    "sl.observe(select_episode,names='value')\n",
    "appModel.observe(update_episodes,names='file')"
   ]
  },
  {
   "cell_type": "code",
   "execution_count": 9,
   "metadata": {},
   "outputs": [
    {
     "data": {
      "application/vnd.jupyter.widget-view+json": {
       "model_id": "b2284858e3c842d9864b73d08367be40",
       "version_major": 2,
       "version_minor": 0
      },
      "text/plain": [
       "VBox(children=(Dropdown(options=(('evaluation-simulation-logs-u2.log', PosixPath('../logs/evaluation-simulatio…"
      ]
     },
     "metadata": {},
     "output_type": "display_data"
    }
   ],
   "source": [
    "app"
   ]
  }
 ],
 "metadata": {
  "kernelspec": {
   "display_name": "Python 3",
   "language": "python",
   "name": "python3"
  },
  "language_info": {
   "codemirror_mode": {
    "name": "ipython",
    "version": 3
   },
   "file_extension": ".py",
   "mimetype": "text/x-python",
   "name": "python",
   "nbconvert_exporter": "python",
   "pygments_lexer": "ipython3",
   "version": "3.7.7"
  }
 },
 "nbformat": 4,
 "nbformat_minor": 4
}
