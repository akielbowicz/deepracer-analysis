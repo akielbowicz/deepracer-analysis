{
 "cells": [
  {
   "cell_type": "code",
   "execution_count": 63,
   "metadata": {},
   "outputs": [
    {
     "name": "stdout",
     "output_type": "stream",
     "text": [
      "Loaded 71 waypoints\n"
     ]
    }
   ],
   "source": [
    "import sys\n",
    "sys.path.append('../')\n",
    "import numpy\n",
    "import pandas\n",
    "import seaborn\n",
    "import matplotlib.pyplot as plt\n",
    "\n",
    "from deepracer.tracks import TrackIO, Track\n",
    "\n",
    "from deepracer.logs import \\\n",
    "    AnalysisUtils as au, \\\n",
    "    SimulationLogsIO as slio, \\\n",
    "    EvaluationUtils as eu, \\\n",
    "    PlottingUtils as pu,\\\n",
    "    NewRewardUtils as nr \\\n",
    "\n",
    "from reward import AWSReward, RewardFactory\n",
    "import reward.awsreward as rewards\n",
    "from utils.loader import load_logs, load_sample_complete_laps\n",
    "from utils.transformer import df_to_params, calculate_iteration, new_names_df\n",
    "\n",
    "tu = TrackIO(base_path='../tracks')\n",
    "track = tu.load_track(\"reinvent_base\")\n",
    "fname = '../logs/training-simulation-logs-v2.log'\n",
    "\n",
    "full_df = load_logs(fname)\n",
    "calculate_iteration(full_df)\n",
    "\n",
    "full_df['duration'] = full_df[['episode','numeric_timestamp']].groupby('episode').transform(lambda x: x - x.min())\n",
    "df = full_df\n",
    "import warnings\n",
    "warnings.filterwarnings('ignore')"
   ]
  },
  {
   "cell_type": "code",
   "execution_count": 64,
   "metadata": {},
   "outputs": [
    {
     "data": {
      "text/html": [
       "<div>\n",
       "<style scoped>\n",
       "    .dataframe tbody tr th:only-of-type {\n",
       "        vertical-align: middle;\n",
       "    }\n",
       "\n",
       "    .dataframe tbody tr th {\n",
       "        vertical-align: top;\n",
       "    }\n",
       "\n",
       "    .dataframe thead th {\n",
       "        text-align: right;\n",
       "    }\n",
       "</style>\n",
       "<table border=\"1\" class=\"dataframe\">\n",
       "  <thead>\n",
       "    <tr style=\"text-align: right;\">\n",
       "      <th></th>\n",
       "      <th>episode</th>\n",
       "      <th>step</th>\n",
       "      <th>x-coordinate</th>\n",
       "      <th>y-coordinate</th>\n",
       "      <th>heading</th>\n",
       "      <th>steering_angle</th>\n",
       "      <th>speed</th>\n",
       "      <th>action_taken</th>\n",
       "      <th>reward</th>\n",
       "      <th>job_completed</th>\n",
       "      <th>all_wheels_on_track</th>\n",
       "      <th>progress</th>\n",
       "      <th>closest_waypoint_index</th>\n",
       "      <th>track_length</th>\n",
       "      <th>time</th>\n",
       "      <th>status</th>\n",
       "      <th>numeric_timestamp</th>\n",
       "      <th>iteration</th>\n",
       "      <th>duration</th>\n",
       "    </tr>\n",
       "  </thead>\n",
       "  <tbody>\n",
       "    <tr>\n",
       "      <th>0</th>\n",
       "      <td>519</td>\n",
       "      <td>15</td>\n",
       "      <td>3.3707</td>\n",
       "      <td>0.3201</td>\n",
       "      <td>-14.2833</td>\n",
       "      <td>0.0</td>\n",
       "      <td>2.0</td>\n",
       "      <td>4</td>\n",
       "      <td>0.001</td>\n",
       "      <td>False</td>\n",
       "      <td>False</td>\n",
       "      <td>7.6066</td>\n",
       "      <td>2</td>\n",
       "      <td>17.67</td>\n",
       "      <td>2020-06-18 14:51:59</td>\n",
       "      <td>in_progress</td>\n",
       "      <td>1.592492e+09</td>\n",
       "      <td>26</td>\n",
       "      <td>0.920143</td>\n",
       "    </tr>\n",
       "    <tr>\n",
       "      <th>1</th>\n",
       "      <td>519</td>\n",
       "      <td>16</td>\n",
       "      <td>3.5075</td>\n",
       "      <td>0.2853</td>\n",
       "      <td>-14.2626</td>\n",
       "      <td>-10.0</td>\n",
       "      <td>4.0</td>\n",
       "      <td>3</td>\n",
       "      <td>0.001</td>\n",
       "      <td>True</td>\n",
       "      <td>False</td>\n",
       "      <td>8.3802</td>\n",
       "      <td>2</td>\n",
       "      <td>17.67</td>\n",
       "      <td>2020-06-18 14:51:59</td>\n",
       "      <td>off_track</td>\n",
       "      <td>1.592492e+09</td>\n",
       "      <td>26</td>\n",
       "      <td>0.988773</td>\n",
       "    </tr>\n",
       "    <tr>\n",
       "      <th>2</th>\n",
       "      <td>519</td>\n",
       "      <td>1</td>\n",
       "      <td>2.1626</td>\n",
       "      <td>0.6519</td>\n",
       "      <td>-14.1729</td>\n",
       "      <td>0.0</td>\n",
       "      <td>4.0</td>\n",
       "      <td>5</td>\n",
       "      <td>1.001</td>\n",
       "      <td>False</td>\n",
       "      <td>True</td>\n",
       "      <td>0.7704</td>\n",
       "      <td>68</td>\n",
       "      <td>17.67</td>\n",
       "      <td>2020-06-18 14:51:58</td>\n",
       "      <td>in_progress</td>\n",
       "      <td>1.592492e+09</td>\n",
       "      <td>26</td>\n",
       "      <td>0.000000</td>\n",
       "    </tr>\n",
       "    <tr>\n",
       "      <th>3</th>\n",
       "      <td>519</td>\n",
       "      <td>2</td>\n",
       "      <td>2.1653</td>\n",
       "      <td>0.6513</td>\n",
       "      <td>-14.1647</td>\n",
       "      <td>-10.0</td>\n",
       "      <td>4.0</td>\n",
       "      <td>3</td>\n",
       "      <td>1.001</td>\n",
       "      <td>False</td>\n",
       "      <td>True</td>\n",
       "      <td>0.7856</td>\n",
       "      <td>68</td>\n",
       "      <td>17.67</td>\n",
       "      <td>2020-06-18 14:51:58</td>\n",
       "      <td>in_progress</td>\n",
       "      <td>1.592492e+09</td>\n",
       "      <td>26</td>\n",
       "      <td>0.051695</td>\n",
       "    </tr>\n",
       "    <tr>\n",
       "      <th>4</th>\n",
       "      <td>519</td>\n",
       "      <td>3</td>\n",
       "      <td>2.1754</td>\n",
       "      <td>0.6484</td>\n",
       "      <td>-14.2884</td>\n",
       "      <td>-10.0</td>\n",
       "      <td>4.0</td>\n",
       "      <td>3</td>\n",
       "      <td>1.001</td>\n",
       "      <td>False</td>\n",
       "      <td>True</td>\n",
       "      <td>0.8428</td>\n",
       "      <td>68</td>\n",
       "      <td>17.67</td>\n",
       "      <td>2020-06-18 14:51:58</td>\n",
       "      <td>in_progress</td>\n",
       "      <td>1.592492e+09</td>\n",
       "      <td>26</td>\n",
       "      <td>0.117003</td>\n",
       "    </tr>\n",
       "  </tbody>\n",
       "</table>\n",
       "</div>"
      ],
      "text/plain": [
       "   episode  step  x-coordinate  y-coordinate  heading  steering_angle  speed  \\\n",
       "0      519    15        3.3707        0.3201 -14.2833             0.0    2.0   \n",
       "1      519    16        3.5075        0.2853 -14.2626           -10.0    4.0   \n",
       "2      519     1        2.1626        0.6519 -14.1729             0.0    4.0   \n",
       "3      519     2        2.1653        0.6513 -14.1647           -10.0    4.0   \n",
       "4      519     3        2.1754        0.6484 -14.2884           -10.0    4.0   \n",
       "\n",
       "   action_taken  reward  job_completed  all_wheels_on_track  progress  \\\n",
       "0             4   0.001          False                False    7.6066   \n",
       "1             3   0.001           True                False    8.3802   \n",
       "2             5   1.001          False                 True    0.7704   \n",
       "3             3   1.001          False                 True    0.7856   \n",
       "4             3   1.001          False                 True    0.8428   \n",
       "\n",
       "   closest_waypoint_index  track_length                time       status  \\\n",
       "0                       2         17.67 2020-06-18 14:51:59  in_progress   \n",
       "1                       2         17.67 2020-06-18 14:51:59    off_track   \n",
       "2                      68         17.67 2020-06-18 14:51:58  in_progress   \n",
       "3                      68         17.67 2020-06-18 14:51:58  in_progress   \n",
       "4                      68         17.67 2020-06-18 14:51:58  in_progress   \n",
       "\n",
       "   numeric_timestamp  iteration  duration  \n",
       "0       1.592492e+09         26  0.920143  \n",
       "1       1.592492e+09         26  0.988773  \n",
       "2       1.592492e+09         26  0.000000  \n",
       "3       1.592492e+09         26  0.051695  \n",
       "4       1.592492e+09         26  0.117003  "
      ]
     },
     "execution_count": 64,
     "metadata": {},
     "output_type": "execute_result"
    }
   ],
   "source": [
    "df.head()"
   ]
  },
  {
   "cell_type": "code",
   "execution_count": 80,
   "metadata": {},
   "outputs": [],
   "source": [
    "def get_info_by_episode(df,episode):\n",
    "    cols = ['x-coordinate','y-coordinate','speed','action_taken','steerin','numeric_timestamp','step']\n",
    "    return df.loc[df.episode == episode, :].sort_values('step')\n",
    "\n",
    "def calculate_instantaneous_velocity(t,x,y):\n",
    "    import scipy.linalg as la\n",
    "    dx, dy, dt = numpy.diff([x,y,t],prepend=0)  \n",
    "    v = la.norm([dx,dy],axis=0) / dt \n",
    "    return v\n",
    "\n",
    "def plot_velocity_and_speed_action(ep,v):\n",
    "    speed = ep.speed.values\n",
    "    step = ep.step.values\n",
    "    actions = ep.action_taken.values\n",
    "    plt.figure(figsize=(9,6))\n",
    "    plt.scatter(step,v,alpha=0.5,s=2)\n",
    "    plt.plot(step,v,alpha=0.5)\n",
    "    plt.scatter(step,speed,s=10,c=actions,cmap='Paired')\n",
    "    plt.plot(step,speed,alpha=0.2,linestyle='--')\n",
    "    plt.colorbar()\n",
    "    plt.xlabel('Step')\n",
    "    plt.ylabel('Instantaneous velocity (--) / Speed[Action] (continuos)')\n",
    "    \n",
    "def plot_velocity_on_track(track,x,y,v):\n",
    "    fig, ax = plt.subplots(figsize=(9,6))\n",
    "    ax.set_aspect('equal')\n",
    "    pu.print_border(ax,track)\n",
    "    plt.scatter(x,y,c=v,cmap='hot')\n",
    "    plt.colorbar(ax=ax,orientation='horizontal')\n",
    "    \n",
    "def plot_velocity_analysis(df,episode):\n",
    "    ep = get_info_by_episode(df,episode)\n",
    "    x,y,t = ep[['x-coordinate','y-coordinate','numeric_timestamp']].values.T\n",
    "    v = calculate_instantaneous_velocity(t,x,y)\n",
    "    ep['velocity'] = v\n",
    "\n",
    "    plot_velocity_and_speed_action(ep,v)\n",
    "    plot_velocity_on_track(track,x,y,v)"
   ]
  },
  {
   "cell_type": "code",
   "execution_count": 81,
   "metadata": {},
   "outputs": [
    {
     "data": {
      "image/png": "[encoded data removed]",
      "text/plain": [
       "<Figure size 648x432 with 2 Axes>"
      ]
     },
     "metadata": {
      "needs_background": "light"
     },
     "output_type": "display_data"
    },
    {
     "data": {
      "image/png": "[encoded data removed]",
      "text/plain": [
       "<Figure size 648x432 with 2 Axes>"
      ]
     },
     "metadata": {
      "needs_background": "light"
     },
     "output_type": "display_data"
    }
   ],
   "source": [
    "episode = 100\n",
    "plot_velocity_analysis(df,episode)"
   ]
  },
  {
   "cell_type": "markdown",
   "metadata": {},
   "source": [
    "# Use bqplot to add interactivity"
   ]
  },
  {
   "cell_type": "code",
   "execution_count": 67,
   "metadata": {},
   "outputs": [],
   "source": [
    "from bqplot import Figure, LinearScale, Scatter, Lines, Axis, Tooltip\n",
    "import bqplot.pyplot as blt"
   ]
  },
  {
   "cell_type": "code",
   "execution_count": 68,
   "metadata": {},
   "outputs": [],
   "source": [
    "def plot_track(track, x, y):\n",
    "\n",
    "    scales={'x': LinearScale(), 'y': LinearScale()}\n",
    "\n",
    "    def plot_line(points, scales):\n",
    "        x,y = points.T\n",
    "        return Lines(x=x, y=y, scales=scales)\n",
    "\n",
    "    def create_line(track,name,scales):\n",
    "        points = getattr(track, name)\n",
    "        return plot_line(points, scales)\n",
    "\n",
    "    def create_track(track, scales):    \n",
    "        return [ create_line(track,name,scales)\n",
    "             for name in ['inner_border', 'outer_border','center_line']]\n",
    "\n",
    "    def create_trajectory(x,y,scales):\n",
    "        tooltip = Tooltip(fields=['x', 'y' ], formats=['.2f', '.2f'])\n",
    "        return [ Lines(x=x, y=y, scales=scales ), Scatter(x=x, y=y, scales=scales, tooltip=tooltip ) ]\n",
    "\n",
    "    def create_axes():\n",
    "        return [ Axis(scale=scales['x'], label='x'), Axis(scale=scales['y'], orientation='vertical', label='y') ]\n",
    "\n",
    "    marks = create_trajectory(x,y,scales) + create_track(track,scales)\n",
    "    axes = create_axes()\n",
    "    return Figure(marks=marks, axes=axes, title='L')"
   ]
  },
  {
   "cell_type": "code",
   "execution_count": 69,
   "metadata": {},
   "outputs": [
    {
     "data": {
      "application/vnd.jupyter.widget-view+json": {
       "model_id": "3697ee161533477fb26fa8568b2ee89c",
       "version_major": 2,
       "version_minor": 0
      },
      "text/plain": [
       "Figure(axes=[Axis(label='x', scale=LinearScale()), Axis(label='y', orientation='vertical', scale=LinearScale()…"
      ]
     },
     "metadata": {},
     "output_type": "display_data"
    }
   ],
   "source": [
    "track_plot = plot_track(track,x,y)\n",
    "track_plot"
   ]
  },
  {
   "cell_type": "code",
   "execution_count": null,
   "metadata": {},
   "outputs": [],
   "source": []
  }
 ],
 "metadata": {
  "kernelspec": {
   "display_name": "Python 3",
   "language": "python",
   "name": "python3"
  },
  "language_info": {
   "codemirror_mode": {
    "name": "ipython",
    "version": 3
   },
   "file_extension": ".py",
   "mimetype": "text/x-python",
   "name": "python",
   "nbconvert_exporter": "python",
   "pygments_lexer": "ipython3",
   "version": "3.7.7"
  }
 },
 "nbformat": 4,
 "nbformat_minor": 4
}
