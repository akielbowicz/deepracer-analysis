{
 "cells": [
  {
   "cell_type": "markdown",
   "metadata": {},
   "source": [
    "# Evaluate new_reward in sample_complete_laps\n",
    "\n",
    "This notebook continues the analysis of [NewRewardAnalysis](NewRewardAnalysis.ipynb) and evaluating a new reward function\n",
    "accros some sample laps obtained in [BulkAnalysisLapSelection](BulkAnalysisLapSelection.ipynb)"
   ]
  },
  {
   "cell_type": "code",
   "execution_count": null,
   "metadata": {},
   "outputs": [
    {
     "name": "stdout",
     "output_type": "stream",
     "text": [
      "Loaded 71 waypoints\n"
     ]
    }
   ],
   "source": [
    "import sys\n",
    "sys.path.append('../')\n",
    "import numpy\n",
    "import pandas\n",
    "import seaborn\n",
    "\n",
    "from deepracer.tracks import TrackIO, Track\n",
    "\n",
    "from reward import AWSReward\n",
    "from utils.loader import get_df, load_sample_complete_laps\n",
    "from utils.transformer import df_to_params, new_names_df, get_episode\n",
    "from utils.new_rewards import aggregate_episode_reward, summary\n",
    "track = TrackIO(base_path='../tracks').load_track(\"reinvent_base\")\n",
    "\n",
    "sample_complete_laps_path = '../logs/sample_complete_laps.csv'\n",
    "scl_df = load_sample_complete_laps(sample_complete_laps_path)"
   ]
  },
  {
   "cell_type": "markdown",
   "metadata": {},
   "source": [
    "## Define or load a new reward \n",
    "\n",
    "The function/object it should take a dictionary of params and return an object that can be casted to float\n",
    "\n",
    "If you have a file with a function you can try to use the ``%%load`` magic to load it insted of copying it, just write ``%%load path/myfile.py`` in the first line of a cell an run it."
   ]
  },
  {
   "cell_type": "code",
   "execution_count": null,
   "metadata": {},
   "outputs": [],
   "source": [
    "class NewReward(AWSReward):\n",
    "    max_speed    = 1.0\n",
    "    \n",
    "    def _calculateReward(self):\n",
    "        return self.x + self.y"
   ]
  },
  {
   "cell_type": "code",
   "execution_count": null,
   "metadata": {},
   "outputs": [],
   "source": [
    "cum_scl = aggregate_episode_reward(scl_df,NewReward, df_to_params, track, 'new_reward')"
   ]
  },
  {
   "cell_type": "code",
   "execution_count": null,
   "metadata": {},
   "outputs": [],
   "source": [
    "cols = ['step','duration','lap_name','reward','new_reward']\n",
    "seaborn.pairplot(cum_scl[cols],hue='lap_name',palette=\"husl\")"
   ]
  },
  {
   "cell_type": "code",
   "execution_count": null,
   "metadata": {},
   "outputs": [],
   "source": [
    "cols = ['stream','time','step','stream','speed','duration','reward','new_reward', 'lap_name']\n",
    "aditional_map = {'lap_name': max}\n",
    "summ_scl  = summary(cum_scl,['reward','new_reward'],use_stream=True,aditional_maps=aditional_map).reset_index()[cols]"
   ]
  },
  {
   "cell_type": "code",
   "execution_count": null,
   "metadata": {},
   "outputs": [],
   "source": [
    "filtered_summ = pandas.concat( [ summ_scl.nlargest(5,'duration'),\n",
    "                                summ_scl.nsmallest(5,'duration')\n",
    "                               ])\n",
    "filtered_summ"
   ]
  },
  {
   "cell_type": "code",
   "execution_count": null,
   "metadata": {},
   "outputs": [],
   "source": [
    "seaborn.pairplot(filtered_summ,hue='lap_name')"
   ]
  },
  {
   "cell_type": "code",
   "execution_count": null,
   "metadata": {},
   "outputs": [],
   "source": [
    "seaborn.pairplot(summ_scl,hue='lap_name')"
   ]
  },
  {
   "cell_type": "code",
   "execution_count": null,
   "metadata": {},
   "outputs": [],
   "source": [
    "laps = ['training-simulation-logs-z6.log_30','training-simulation-logs-w5.log_39']\n",
    "filtered_by_lap_summ = summ_scl[summ_scl.lap_name.isin(laps)]\n",
    "filtered_by_lap_summ"
   ]
  },
  {
   "cell_type": "code",
   "execution_count": null,
   "metadata": {},
   "outputs": [],
   "source": [
    "seaborn.pairplot(filtered_by_lap_summ,hue='lap_name')"
   ]
  },
  {
   "cell_type": "code",
   "execution_count": null,
   "metadata": {},
   "outputs": [],
   "source": []
  }
 ],
 "metadata": {
  "kernelspec": {
   "display_name": "Python 3",
   "language": "python",
   "name": "python3"
  },
  "language_info": {
   "codemirror_mode": {
    "name": "ipython",
    "version": 3
   },
   "file_extension": ".py",
   "mimetype": "text/x-python",
   "name": "python",
   "nbconvert_exporter": "python",
   "pygments_lexer": "ipython3",
   "version": "3.7.7"
  }
 },
 "nbformat": 4,
 "nbformat_minor": 4
}
