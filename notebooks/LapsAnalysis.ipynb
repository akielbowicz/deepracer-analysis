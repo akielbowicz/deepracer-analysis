{
 "cells": [
  {
   "cell_type": "code",
   "execution_count": 1,
   "metadata": {},
   "outputs": [
    {
     "name": "stdout",
     "output_type": "stream",
     "text": [
      "Loaded 71 waypoints\n"
     ]
    }
   ],
   "source": [
    "import sys\n",
    "sys.path.append('../')\n",
    "\n",
    "from deepracer.tracks import TrackIO\n",
    "from utils.loader import get_df, get_files_paths\n",
    "from utils.transformer import get_episode\n",
    "from analysis.laps import create_app\n",
    " \n",
    "track = TrackIO(base_path='../tracks').load_track(\"reinvent_base\")\n",
    "\n",
    "logs_base_path = '../logs'"
   ]
  },
  {
   "cell_type": "code",
   "execution_count": 2,
   "metadata": {},
   "outputs": [
    {
     "data": {
      "application/vnd.jupyter.widget-view+json": {
       "model_id": "798539e1011c4b408532b50543a40ba0",
       "version_major": 2,
       "version_minor": 0
      },
      "text/plain": [
       "VBox(children=(Dropdown(index=35, options=(('evaluation-simulation-logs-u2.log', PosixPath('../logs/evaluation…"
      ]
     },
     "metadata": {},
     "output_type": "display_data"
    }
   ],
   "source": [
    "app = create_app(get_files_paths,logs_base_path, get_df,track,get_episode)\n",
    "app"
   ]
  },
  {
   "cell_type": "markdown",
   "metadata": {},
   "source": [
    "# To upload a new log file it has to follow the following conditions:\n",
    "\n",
    "1. Have *.log* extention\n",
    "2. Have the following format\n",
    "\n",
    "```\n",
    "@timestamp,@message\n",
    "2020-05-21 03:36:43.115,\"SIM_TRACE_LOG:0,1,3.1131,0.9582,-0.2223,-30.00,0.33,0,1.0000,False,True,0.7162,1,19.55,1590032202.6231055,in_progress\"\n",
    "```\n",
    "\n",
    "where the first line has to be the header \"@timestamp,@message\""
   ]
  },
  {
   "cell_type": "code",
   "execution_count": 3,
   "metadata": {},
   "outputs": [
    {
     "name": "stdout",
     "output_type": "stream",
     "text": [
      "@timestamp,@message\n",
      "2020-05-21 03:36:43.115,\"SIM_TRACE_LOG:0,1,3.1131,0.9582,-0.2223,-30.00,0.33,0,1.0000,False,True,0.7162,1,19.55,1590032202.6231055,in_progress\"\n",
      "2020-05-21 03:36:43.115,\"SIM_TRACE_LOG:0,2,3.1173,0.9581,-0.2495,0.00,1.00,5,1.0000,False,True,0.7376,1,19.55,1590032202.6572943,in_progress\"\n"
     ]
    }
   ],
   "source": [
    "!head -3 ../logs/old-training-simulation-logs-bubulina.log"
   ]
  }
 ],
 "metadata": {
  "kernelspec": {
   "display_name": "Python 3",
   "language": "python",
   "name": "python3"
  },
  "language_info": {
   "codemirror_mode": {
    "name": "ipython",
    "version": 3
   },
   "file_extension": ".py",
   "mimetype": "text/x-python",
   "name": "python",
   "nbconvert_exporter": "python",
   "pygments_lexer": "ipython3",
   "version": "3.7.7"
  }
 },
 "nbformat": 4,
 "nbformat_minor": 4
}
