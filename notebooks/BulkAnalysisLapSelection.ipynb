{
 "cells": [
  {
   "cell_type": "code",
   "execution_count": null,
   "metadata": {
    "lines_to_next_cell": 2
   },
   "outputs": [],
   "source": [
    "import sys\n",
    "sys.path.append('../')\n",
    "import pandas\n",
    "import matplotlib.pyplot as plt\n",
    "import seaborn\n",
    "import qgrid\n",
    "\n",
    "from deepracer.tracks import TrackIO, Track\n",
    "from deepracer.tracks.track_utils import track_breakdown\n",
    "from deepracer.logs import CloudWatchLogs as cw, \\\n",
    "    SimulationLogsIO as slio, \\\n",
    "    NewRewardUtils as nr, \\\n",
    "    AnalysisUtils as au, \\\n",
    "    PlottingUtils as pu, \\\n",
    "    ActionBreakdownUtils as abu\n",
    "\n",
    "\n",
    "from reward import AWSReward, RewardFactory\n",
    "import reward.awsreward as rewards\n",
    "from utils.loader import load_logs\n",
    "from utils.transformer import df_to_params, calculate_iteration, new_names_df\n",
    "\n",
    "tu = TrackIO(base_path='../tracks')\n",
    "track = tu.load_track(\"reinvent_base\")\n",
    "\n",
    "# Ignore deprecation warnings we have no power over\n",
    "import warnings\n",
    "warnings.filterwarnings('ignore')"
   ]
  },
  {
   "cell_type": "code",
   "execution_count": null,
   "metadata": {},
   "outputs": [],
   "source": [
    "base_reward = rewards.RewardV1\n",
    "class new_reward(base_reward):\n",
    "    max_speed    = 1.0"
   ]
  },
  {
   "cell_type": "code",
   "execution_count": null,
   "metadata": {},
   "outputs": [],
   "source": [
    "factory = RewardFactory(base_reward)"
   ]
  },
  {
   "cell_type": "code",
   "execution_count": null,
   "metadata": {},
   "outputs": [],
   "source": [
    "import os\n",
    "import pathlib\n",
    "base_folder = '../logs'\n",
    "df_list = list()\n",
    "big_training_panda = None\n",
    "\n",
    "base_path = pathlib.Path(base_folder)\n",
    "stream_names = [path.name for path in base_path.glob('training*.log')]\n",
    "\n",
    "for stream in stream_names:\n",
    "    print(f'Loading:{stream}')\n",
    "    df = load_logs('%s/%s' % (base_folder, stream))\n",
    "    df['stream'] = stream\n",
    "    if big_training_panda is not None:\n",
    "        big_training_panda = big_training_panda.append(df)\n",
    "    else:\n",
    "        big_training_panda = df"
   ]
  },
  {
   "cell_type": "code",
   "execution_count": null,
   "metadata": {},
   "outputs": [],
   "source": [
    "factory.calculate_new_reward(big_training_panda, track.center_line,df_to_params,'new_reward',missing_params=None)"
   ]
  },
  {
   "cell_type": "code",
   "execution_count": null,
   "metadata": {},
   "outputs": [],
   "source": [
    "big_training_panda = new_names_df(big_training_panda)\n",
    "# big_training_panda\n",
    "# big_training_panda.columns = ['episode', 'steps', 'x', 'y', 'yaw', 'steer', 'throttle',\n",
    "#        'action_taken', 'reward', 'done', 'on_track', 'progress',\n",
    "#        'closest_waypoint', 'track_len', 'tts', 'status', 'timestamp',\n",
    "#        'stream', 'new_reward']\n",
    "# big_training_panda.dtypes"
   ]
  },
  {
   "cell_type": "code",
   "execution_count": null,
   "metadata": {},
   "outputs": [],
   "source": [
    "# Below code is using stream name as part of grouping since otherwise there would be episode number collisions\n",
    "big_simulation_agg = au.simulation_agg(big_training_panda, 'stream')\n",
    "\n",
    "big_complete_ones = big_simulation_agg[big_simulation_agg['progress']==100]"
   ]
  },
  {
   "cell_type": "code",
   "execution_count": null,
   "metadata": {},
   "outputs": [],
   "source": [
    "qgrid.show_grid(big_complete_ones)"
   ]
  },
  {
   "cell_type": "code",
   "execution_count": null,
   "metadata": {},
   "outputs": [],
   "source": [
    "seaborn.pairplot(big_complete_ones[['steps','time','reward','new_reward','stream']],hue='stream',palette=\"husl\")"
   ]
  },
  {
   "cell_type": "code",
   "execution_count": null,
   "metadata": {},
   "outputs": [],
   "source": [
    "sample_complete_laps = ( big_complete_ones.nlargest(10,['time']).copy(deep=True)\n",
    "        .append([ big_complete_ones.nsmallest(10,['time']), big_complete_ones.sample(20)] )\n",
    "        .drop_duplicates().sort_values(by='time').reset_index() )\n",
    "# sample_complete_laps[['stream','episode','time']].to_csv('../logs/sample_complete_laps.csv')"
   ]
  },
  {
   "cell_type": "code",
   "execution_count": null,
   "metadata": {},
   "outputs": [],
   "source": [
    "seaborn.pairplot(sample_complete_laps[['steps','time','reward','new_reward','stream']],hue='stream',palette=\"husl\")"
   ]
  }
 ],
 "metadata": {
  "kernelspec": {
   "display_name": "Python 3",
   "language": "python",
   "name": "python3"
  },
  "language_info": {
   "codemirror_mode": {
    "name": "ipython",
    "version": 3
   },
   "file_extension": ".py",
   "mimetype": "text/x-python",
   "name": "python",
   "nbconvert_exporter": "python",
   "pygments_lexer": "ipython3",
   "version": "3.7.7"
  }
 },
 "nbformat": 4,
 "nbformat_minor": 4
}
