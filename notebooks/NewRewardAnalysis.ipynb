{
 "cells": [
  {
   "cell_type": "code",
   "execution_count": null,
   "metadata": {},
   "outputs": [],
   "source": []
  },
  {
   "cell_type": "code",
   "execution_count": 4,
   "metadata": {},
   "outputs": [
    {
     "name": "stdout",
     "output_type": "stream",
     "text": [
      "Loaded 71 waypoints\n"
     ]
    }
   ],
   "source": [
    "import sys\n",
    "sys.path.append('../')\n",
    "import numpy\n",
    "import pandas\n",
    "import seaborn\n",
    "\n",
    "from deepracer.tracks import TrackIO, Track\n",
    "\n",
    "from reward import AWSReward, RewardFactory\n",
    "import reward.awsreward as rewards\n",
    "from utils.loader import get_df, load_sample_complete_laps\n",
    "from utils.transformer import df_to_params, new_names_df, get_episode\n",
    "from utils.new_rewards import aggregate_episode_reward, summary, plot_new_reward\n",
    "track = TrackIO(base_path='../tracks').load_track(\"reinvent_base\")\n",
    "\n",
    "fname = '../logs/training-simulation-logs-w7.log'\n",
    "full_df= get_df(fname)"
   ]
  },
  {
   "cell_type": "markdown",
   "metadata": {},
   "source": [
    "## Define or load a new reward \n",
    "\n",
    "The function/object it should take a dictionary of params and return an object that can be casted to float\n",
    "\n",
    "If you have a file with a function you can try to use the ``%%load`` magic to load it insted of copying it, just write ``%%load path/myfile.py`` in the first line of a cell an run it."
   ]
  },
  {
   "cell_type": "code",
   "execution_count": 5,
   "metadata": {},
   "outputs": [],
   "source": [
    "class NewReward(AWSReward):\n",
    "    max_speed    = 1.0\n",
    "    \n",
    "    def _calculateReward(self):\n",
    "        return self.x + self.y"
   ]
  },
  {
   "cell_type": "code",
   "execution_count": 12,
   "metadata": {},
   "outputs": [
    {
     "data": {
      "text/plain": [
       "\u001b[0;31mSignature:\u001b[0m\n",
       "\u001b[0maggregate_episode_reward\u001b[0m\u001b[0;34m(\u001b[0m\u001b[0;34m\u001b[0m\n",
       "\u001b[0;34m\u001b[0m    \u001b[0mdf\u001b[0m\u001b[0;34m,\u001b[0m\u001b[0;34m\u001b[0m\n",
       "\u001b[0;34m\u001b[0m    \u001b[0mreward_calculator\u001b[0m\u001b[0;34m,\u001b[0m\u001b[0;34m\u001b[0m\n",
       "\u001b[0;34m\u001b[0m    \u001b[0mdf_to_params\u001b[0m\u001b[0;34m,\u001b[0m\u001b[0;34m\u001b[0m\n",
       "\u001b[0;34m\u001b[0m    \u001b[0mtrack\u001b[0m\u001b[0;34m,\u001b[0m\u001b[0;34m\u001b[0m\n",
       "\u001b[0;34m\u001b[0m    \u001b[0mnew_reward_name\u001b[0m\u001b[0;34m=\u001b[0m\u001b[0;34m'new_reward'\u001b[0m\u001b[0;34m,\u001b[0m\u001b[0;34m\u001b[0m\n",
       "\u001b[0;34m\u001b[0m\u001b[0;34m)\u001b[0m\u001b[0;34m\u001b[0m\u001b[0;34m\u001b[0m\u001b[0m\n",
       "\u001b[0;31mDocstring:\u001b[0m\n",
       "!!! df should contain only one episode information\n",
       "reward_calculator should be a callable that recieves a params dictionary and returns an object castable to float\n",
       "df_to_params is a helper function that takes a series and transforms it into a dictionary of parameters\n",
       "\u001b[0;31mFile:\u001b[0m      ~/Code/deepracer/deepracer-analysis/utils/new_rewards.py\n",
       "\u001b[0;31mType:\u001b[0m      function\n"
      ]
     },
     "metadata": {},
     "output_type": "display_data"
    }
   ],
   "source": [
    "aggregate_episode_reward?"
   ]
  },
  {
   "cell_type": "code",
   "execution_count": 10,
   "metadata": {},
   "outputs": [
    {
     "data": {
      "image/png": "[encoded data removed]",
      "text/plain": [
       "<Figure size 432x288 with 1 Axes>"
      ]
     },
     "metadata": {
      "needs_background": "light"
     },
     "output_type": "display_data"
    }
   ],
   "source": [
    "episode = 1\n",
    "episode_df = aggregate_episode_reward(get_episode(full_df,episode), NewReward, df_to_params, track, 'new_reward')\n",
    "plot_new_reward(df,['reward','new_reward'])"
   ]
  },
  {
   "cell_type": "code",
   "execution_count": 11,
   "metadata": {},
   "outputs": [
    {
     "data": {
      "text/html": [
       "<div>\n",
       "<style scoped>\n",
       "    .dataframe tbody tr th:only-of-type {\n",
       "        vertical-align: middle;\n",
       "    }\n",
       "\n",
       "    .dataframe tbody tr th {\n",
       "        vertical-align: top;\n",
       "    }\n",
       "\n",
       "    .dataframe thead th {\n",
       "        text-align: right;\n",
       "    }\n",
       "</style>\n",
       "<table border=\"1\" class=\"dataframe\">\n",
       "  <thead>\n",
       "    <tr style=\"text-align: right;\">\n",
       "      <th></th>\n",
       "      <th></th>\n",
       "      <th>step</th>\n",
       "      <th>closest_waypoint_index</th>\n",
       "      <th>progress</th>\n",
       "      <th>speed</th>\n",
       "      <th>time</th>\n",
       "      <th>reward</th>\n",
       "      <th>duration</th>\n",
       "      <th>new_reward</th>\n",
       "    </tr>\n",
       "    <tr>\n",
       "      <th>iteration</th>\n",
       "      <th>episode</th>\n",
       "      <th></th>\n",
       "      <th></th>\n",
       "      <th></th>\n",
       "      <th></th>\n",
       "      <th></th>\n",
       "      <th></th>\n",
       "      <th></th>\n",
       "      <th></th>\n",
       "    </tr>\n",
       "  </thead>\n",
       "  <tbody>\n",
       "    <tr>\n",
       "      <th>1</th>\n",
       "      <th>1</th>\n",
       "      <td>189</td>\n",
       "      <td>4</td>\n",
       "      <td>48.9639</td>\n",
       "      <td>0.629365</td>\n",
       "      <td>00:00:12</td>\n",
       "      <td>133.469</td>\n",
       "      <td>12.568453</td>\n",
       "      <td>1418.5668</td>\n",
       "    </tr>\n",
       "  </tbody>\n",
       "</table>\n",
       "</div>"
      ],
      "text/plain": [
       "                   step  closest_waypoint_index  progress     speed     time  \\\n",
       "iteration episode                                                              \n",
       "1         1         189                       4   48.9639  0.629365 00:00:12   \n",
       "\n",
       "                    reward   duration  new_reward  \n",
       "iteration episode                                  \n",
       "1         1        133.469  12.568453   1418.5668  "
      ]
     },
     "execution_count": 11,
     "metadata": {},
     "output_type": "execute_result"
    }
   ],
   "source": [
    "summary(episode_df,['new_reward'])"
   ]
  },
  {
   "cell_type": "code",
   "execution_count": null,
   "metadata": {},
   "outputs": [],
   "source": []
  },
  {
   "cell_type": "code",
   "execution_count": null,
   "metadata": {},
   "outputs": [],
   "source": []
  }
 ],
 "metadata": {
  "kernelspec": {
   "display_name": "Python 3",
   "language": "python",
   "name": "python3"
  },
  "language_info": {
   "codemirror_mode": {
    "name": "ipython",
    "version": 3
   },
   "file_extension": ".py",
   "mimetype": "text/x-python",
   "name": "python",
   "nbconvert_exporter": "python",
   "pygments_lexer": "ipython3",
   "version": "3.7.7"
  }
 },
 "nbformat": 4,
 "nbformat_minor": 4
}
