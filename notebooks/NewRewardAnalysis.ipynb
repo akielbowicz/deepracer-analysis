{
 "cells": [
  {
   "cell_type": "markdown",
   "metadata": {},
   "source": [
    "# Analyze a new reward function over some existing laps"
   ]
  },
  {
   "cell_type": "code",
   "execution_count": 1,
   "metadata": {},
   "outputs": [
    {
     "name": "stdout",
     "output_type": "stream",
     "text": [
      "Loaded 71 waypoints\n"
     ]
    }
   ],
   "source": [
    "import sys\n",
    "sys.path.append('../')\n",
    "\n",
    "from deepracer.tracks import TrackIO\n",
    "\n",
    "from reward import AWSReward\n",
    "from utils.loader import get_df, load_sample_complete_laps,get_files_paths\n",
    "from utils.transformer import df_to_params, get_episode\n",
    "from utils.new_rewards import aggregate_episode_reward, summary, plot_new_reward\n",
    "from analysis.apps import create_new_reward_app\n",
    "\n",
    "track = TrackIO(base_path='../tracks').load_track(\"reinvent_base\")\n",
    "\n",
    "logs_base_path = '../logs/'\n",
    "fname = 'training-simulation-logs-w7.log'\n",
    "full_df= get_df( logs_base_path + fname)"
   ]
  },
  {
   "cell_type": "markdown",
   "metadata": {},
   "source": [
    "## Define or load a new reward \n",
    "\n",
    "The function/object it should take a dictionary of params and return an object that can be casted to float\n",
    "\n",
    "If you have a file with a function you can try to use the ``%%load`` magic to load it insted of copying it, just write ``%%load path/myfile.py`` in the first line of a cell an run it."
   ]
  },
  {
   "cell_type": "code",
   "execution_count": 2,
   "metadata": {},
   "outputs": [],
   "source": [
    "class NewReward(AWSReward):\n",
    "    max_speed    = 1.0\n",
    "    \n",
    "    def _calculateReward(self):\n",
    "        return self.distance_from_center "
   ]
  },
  {
   "cell_type": "code",
   "execution_count": 3,
   "metadata": {},
   "outputs": [
    {
     "data": {
      "text/plain": [
       "\u001b[0;31mSignature:\u001b[0m\n",
       "\u001b[0maggregate_episode_reward\u001b[0m\u001b[0;34m(\u001b[0m\u001b[0;34m\u001b[0m\n",
       "\u001b[0;34m\u001b[0m    \u001b[0mdf\u001b[0m\u001b[0;34m,\u001b[0m\u001b[0;34m\u001b[0m\n",
       "\u001b[0;34m\u001b[0m    \u001b[0mreward_calculator\u001b[0m\u001b[0;34m,\u001b[0m\u001b[0;34m\u001b[0m\n",
       "\u001b[0;34m\u001b[0m    \u001b[0mdf_to_params\u001b[0m\u001b[0;34m,\u001b[0m\u001b[0;34m\u001b[0m\n",
       "\u001b[0;34m\u001b[0m    \u001b[0mtrack\u001b[0m\u001b[0;34m,\u001b[0m\u001b[0;34m\u001b[0m\n",
       "\u001b[0;34m\u001b[0m    \u001b[0mnew_reward_name\u001b[0m\u001b[0;34m=\u001b[0m\u001b[0;34m'new_reward'\u001b[0m\u001b[0;34m,\u001b[0m\u001b[0;34m\u001b[0m\n",
       "\u001b[0;34m\u001b[0m\u001b[0;34m)\u001b[0m\u001b[0;34m\u001b[0m\u001b[0;34m\u001b[0m\u001b[0m\n",
       "\u001b[0;31mDocstring:\u001b[0m\n",
       "!!! df should contain only one episode information\n",
       "reward_calculator should be a callable that recieves a params dictionary and returns an object castable to float\n",
       "df_to_params is a helper function that takes a series and transforms it into a dictionary of parameters\n",
       "\u001b[0;31mFile:\u001b[0m      ~/Code/deepracer/deepracer-analysis/utils/new_rewards.py\n",
       "\u001b[0;31mType:\u001b[0m      function\n"
      ]
     },
     "metadata": {},
     "output_type": "display_data"
    }
   ],
   "source": [
    "aggregate_episode_reward?"
   ]
  },
  {
   "cell_type": "code",
   "execution_count": 4,
   "metadata": {},
   "outputs": [],
   "source": [
    "episode = 1\n",
    "episode_df = aggregate_episode_reward(get_episode(full_df, episode), NewReward, df_to_params, track, 'new_reward')"
   ]
  },
  {
   "cell_type": "markdown",
   "metadata": {},
   "source": [
    "You can get som meeningful summary of the episode"
   ]
  },
  {
   "cell_type": "code",
   "execution_count": 5,
   "metadata": {},
   "outputs": [
    {
     "data": {
      "text/html": [
       "<div>\n",
       "<style scoped>\n",
       "    .dataframe tbody tr th:only-of-type {\n",
       "        vertical-align: middle;\n",
       "    }\n",
       "\n",
       "    .dataframe tbody tr th {\n",
       "        vertical-align: top;\n",
       "    }\n",
       "\n",
       "    .dataframe thead th {\n",
       "        text-align: right;\n",
       "    }\n",
       "</style>\n",
       "<table border=\"1\" class=\"dataframe\">\n",
       "  <thead>\n",
       "    <tr style=\"text-align: right;\">\n",
       "      <th></th>\n",
       "      <th></th>\n",
       "      <th>step</th>\n",
       "      <th>closest_waypoint_index</th>\n",
       "      <th>progress</th>\n",
       "      <th>speed</th>\n",
       "      <th>time</th>\n",
       "      <th>reward</th>\n",
       "      <th>duration</th>\n",
       "      <th>new_reward</th>\n",
       "    </tr>\n",
       "    <tr>\n",
       "      <th>iteration</th>\n",
       "      <th>episode</th>\n",
       "      <th></th>\n",
       "      <th></th>\n",
       "      <th></th>\n",
       "      <th></th>\n",
       "      <th></th>\n",
       "      <th></th>\n",
       "      <th></th>\n",
       "      <th></th>\n",
       "    </tr>\n",
       "  </thead>\n",
       "  <tbody>\n",
       "    <tr>\n",
       "      <th>1</th>\n",
       "      <th>1</th>\n",
       "      <td>189</td>\n",
       "      <td>4</td>\n",
       "      <td>48.9639</td>\n",
       "      <td>0.629365</td>\n",
       "      <td>00:00:12</td>\n",
       "      <td>133.469</td>\n",
       "      <td>12.568453</td>\n",
       "      <td>15.510964</td>\n",
       "    </tr>\n",
       "  </tbody>\n",
       "</table>\n",
       "</div>"
      ],
      "text/plain": [
       "                   step  closest_waypoint_index  progress     speed     time  \\\n",
       "iteration episode                                                              \n",
       "1         1         189                       4   48.9639  0.629365 00:00:12   \n",
       "\n",
       "                    reward   duration  new_reward  \n",
       "iteration episode                                  \n",
       "1         1        133.469  12.568453   15.510964  "
      ]
     },
     "execution_count": 5,
     "metadata": {},
     "output_type": "execute_result"
    }
   ],
   "source": [
    "summary(episode_df,['new_reward'])"
   ]
  },
  {
   "cell_type": "markdown",
   "metadata": {},
   "source": [
    "Or plot some columns "
   ]
  },
  {
   "cell_type": "code",
   "execution_count": 6,
   "metadata": {},
   "outputs": [
    {
     "data": {
      "image/png": "[encoded data removed]",
      "text/plain": [
       "<Figure size 432x288 with 1 Axes>"
      ]
     },
     "metadata": {
      "needs_background": "light"
     },
     "output_type": "display_data"
    }
   ],
   "source": [
    "plot_new_reward(episode_df, ['reward','new_reward'])"
   ]
  },
  {
   "cell_type": "markdown",
   "metadata": {},
   "source": [
    "Or interactivly go throw the logs and evaluate your new reward over existing laps/episodes "
   ]
  },
  {
   "cell_type": "code",
   "execution_count": 7,
   "metadata": {},
   "outputs": [
    {
     "data": {
      "application/vnd.jupyter.widget-view+json": {
       "model_id": "d33c3d01989c497f80bd01c90f8f3da2",
       "version_major": 2,
       "version_minor": 0
      },
      "text/plain": [
       "VBox(children=(HBox(children=(Dropdown(description='file', index=35, options=(('evaluation-simulation-logs-u2.…"
      ]
     },
     "metadata": {},
     "output_type": "display_data"
    }
   ],
   "source": [
    "create_new_reward_app(get_files_paths, logs_base_path, get_df, track, get_episode,  aggregate_episode_reward, NewReward, df_to_params)"
   ]
  },
  {
   "cell_type": "markdown",
   "metadata": {},
   "source": [
    "You can analyze a reward function over multiple laps over [NewRewardOnCompleteLaps]( NewRewardOnCompleteLaps.ipynb )"
   ]
  }
 ],
 "metadata": {
  "kernelspec": {
   "display_name": "Python 3",
   "language": "python",
   "name": "python3"
  },
  "language_info": {
   "codemirror_mode": {
    "name": "ipython",
    "version": 3
   },
   "file_extension": ".py",
   "mimetype": "text/x-python",
   "name": "python",
   "nbconvert_exporter": "python",
   "pygments_lexer": "ipython3",
   "version": "3.7.7"
  }
 },
 "nbformat": 4,
 "nbformat_minor": 4
}
